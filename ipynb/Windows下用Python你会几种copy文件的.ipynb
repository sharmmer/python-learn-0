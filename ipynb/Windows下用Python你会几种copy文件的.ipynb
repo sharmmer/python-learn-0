{
 "cells": [
  {
   "cell_type": "markdown",
   "metadata": {},
   "source": [
    "# Windows下用Python你会几种copy文件的方法?\n",
    "https://blog.csdn.net/qq_42022255/article/details/80331237"
   ]
  },
  {
   "cell_type": "markdown",
   "metadata": {},
   "source": [
    "## 详谈python在windows中的文件路径问题\n",
    "转载  更新时间：2018年04月28日 09:40:45   作者：鹊桥猫仙     我要评论\n",
    "\n",
    "下面小编就为大家分享一篇详谈python在windows中的文件路径问题，具有很好的参考价值，希望对大家有所帮助。一起跟随小编过来看看吧\n",
    "在使用python通过open()函数来打开文件的时候，传递绝对路径给open()的时候，发现路径参数的内容与想象中的有所出入：\n",
    "\n",
    "由于windows的路径分隔符使用的是反斜杠\\，它刚刚好是转义字符，故可能发生冲突\n",
    "\n",
    "## 错误示范：反斜杠似乎被解释为转义字符而不是分隔字符\n",
    "path = '''F:\\Python\\test.txt'''    \n",
    "path = '''F:\\\\Python\\test.txt'''\n",
    "\n",
    "## 可行示范\n",
    "\"\"\"以下三种方式都是可行的\"\"\"\n",
    "\n",
    "path = '''F:\\Python\\\\test.txt'''\n",
    "\n",
    "path = '''F:\\\\Python\\\\test.txt'''\n",
    "\n",
    "path = '''F:\\Python\\\\test.txt'''\n",
    "\n",
    "'''绝对路径的最后一个反斜杠使用了双反斜杠时就正常'''\n",
    "'''原因是最后一个反斜杠可以与它紧挨着的字符t构成转义效果'''\n",
    "结论：使用绝对路径的时候，要注意在绝对路径中使用的反斜杠与它后面紧跟着的字符会不会构成转义效果，如果会产生转义效果，如\\t \\n \\r等等，则必须使用双反斜杠来取消单反斜杠的转义效果。如果产生了转义字符带来的错误，会出现open()提示 \"Invalid arguments\""
   ]
  },
  {
   "cell_type": "code",
   "execution_count": 52,
   "metadata": {},
   "outputs": [
    {
     "ename": "PermissionError",
     "evalue": "[Errno 13] Permission denied: 'E:\\\\test\\\\cheatsheets\\\\_IT'",
     "output_type": "error",
     "traceback": [
      "\u001b[1;31m---------------------------------------------------------------------------\u001b[0m",
      "\u001b[1;31mPermissionError\u001b[0m                           Traceback (most recent call last)",
      "\u001b[1;32m<ipython-input-52-03847f1d1b3c>\u001b[0m in \u001b[0;36m<module>\u001b[1;34m()\u001b[0m\n\u001b[0;32m      8\u001b[0m \u001b[0mdirname2\u001b[0m \u001b[1;33m=\u001b[0m \u001b[1;34m\"E:\\\\test\\\\cheatsheets\"\u001b[0m\u001b[1;33m\u001b[0m\u001b[0m\n\u001b[0;32m      9\u001b[0m \u001b[1;33m\u001b[0m\u001b[0m\n\u001b[1;32m---> 10\u001b[1;33m \u001b[0mopen\u001b[0m \u001b[1;33m(\u001b[0m\u001b[0mdirname1\u001b[0m\u001b[1;33m,\u001b[0m \u001b[1;34m\"w\"\u001b[0m\u001b[1;33m)\u001b[0m\u001b[1;33m.\u001b[0m\u001b[0mclose\u001b[0m \u001b[1;33m(\u001b[0m\u001b[1;33m)\u001b[0m\u001b[1;33m\u001b[0m\u001b[0m\n\u001b[0m\u001b[0;32m     11\u001b[0m \u001b[0mdirname2\u001b[0m \u001b[1;33m=\u001b[0m \u001b[0mfilename1\u001b[0m \u001b[1;33m+\u001b[0m \u001b[1;34m\".\"\u001b[0m\u001b[1;33m\u001b[0m\u001b[0m\n\u001b[0;32m     12\u001b[0m \u001b[0mprint\u001b[0m\u001b[1;33m(\u001b[0m\u001b[0mdirname1\u001b[0m\u001b[1;33m,\u001b[0m \u001b[1;34m\"=>\"\u001b[0m\u001b[1;33m,\u001b[0m \u001b[0mdirname2\u001b[0m\u001b[1;33m)\u001b[0m\u001b[1;33m\u001b[0m\u001b[0m\n",
      "\u001b[1;31mPermissionError\u001b[0m: [Errno 13] Permission denied: 'E:\\\\test\\\\cheatsheets\\\\_IT'"
     ]
    }
   ],
   "source": [
    "# C:\\Users\\chz\\AppData\\Local\\Temp\\tmpmncmh5qe. => C:\\Users\\chz\\AppData\\Local\\Temp\\tmp96yeicq8.txt.把文件拷贝成TXT\n",
    "\n",
    "import os\n",
    "import tempfile\n",
    "\n",
    "\n",
    "dirname1 = \"E:\\\\test\\\\cheatsheets\\\\_IT\" \n",
    "dirname2 = \"E:\\\\test\\\\cheatsheets\"\n",
    "\n",
    "open (dirname1, \"w\").close ()\n",
    "dirname2 = filename1 + \".\"\n",
    "print(dirname1, \"=>\", dirname2)"
   ]
  },
  {
   "cell_type": "code",
   "execution_count": 53,
   "metadata": {},
   "outputs": [
    {
     "ename": "FileExistsError",
     "evalue": "[WinError 183] 当文件已存在时，无法创建该文件。: 'E:\\\\test\\\\cheatsheets\\\\_IT'",
     "output_type": "error",
     "traceback": [
      "\u001b[1;31m---------------------------------------------------------------------------\u001b[0m",
      "\u001b[1;31mFileExistsError\u001b[0m                           Traceback (most recent call last)",
      "\u001b[1;32m<ipython-input-53-a051793efd17>\u001b[0m in \u001b[0;36m<module>\u001b[1;34m()\u001b[0m\n\u001b[0;32m      7\u001b[0m \u001b[1;33m\u001b[0m\u001b[0m\n\u001b[0;32m      8\u001b[0m \u001b[1;31m#拷文件\u001b[0m\u001b[1;33m\u001b[0m\u001b[1;33m\u001b[0m\u001b[0m\n\u001b[1;32m----> 9\u001b[1;33m \u001b[0mos\u001b[0m\u001b[1;33m.\u001b[0m\u001b[0mmkdir\u001b[0m \u001b[1;33m(\u001b[0m\u001b[0mdirname1\u001b[0m\u001b[1;33m)\u001b[0m\u001b[1;33m\u001b[0m\u001b[0m\n\u001b[0m\u001b[0;32m     10\u001b[0m \u001b[0mdirname2\u001b[0m \u001b[1;33m=\u001b[0m \u001b[0mdirname1\u001b[0m \u001b[1;33m+\u001b[0m \u001b[1;34m\".copy\"\u001b[0m\u001b[1;33m\u001b[0m\u001b[0m\n\u001b[0;32m     11\u001b[0m \u001b[0mprint\u001b[0m\u001b[1;33m(\u001b[0m\u001b[0mdirname1\u001b[0m\u001b[1;33m,\u001b[0m \u001b[1;34m\"=>\"\u001b[0m\u001b[1;33m,\u001b[0m \u001b[0mdirname2\u001b[0m\u001b[1;33m)\u001b[0m\u001b[1;33m\u001b[0m\u001b[0m\n",
      "\u001b[1;31mFileExistsError\u001b[0m: [WinError 183] 当文件已存在时，无法创建该文件。: 'E:\\\\test\\\\cheatsheets\\\\_IT'"
     ]
    }
   ],
   "source": [
    "# [WinError 183] 当文件已存在时，无法创建该文件。: 'E:\\\\test\\\\cheatsheets\\\\_IT'\n",
    "\n",
    "import os\n",
    "import tempfile\n",
    "\n",
    "\n",
    "dirname1 = \"E:\\\\test\\\\cheatsheets\\\\_IT\" \n",
    "dirname2 = \"E:\\\\test\\\\cheatsheets\"\n",
    "\n",
    "#拷文件\n",
    "os.mkdir (dirname1)\n",
    "dirname2 = dirname1 + \".copy\"\n",
    "print(dirname1, \"=>\", dirname2)"
   ]
  },
  {
   "cell_type": "code",
   "execution_count": 49,
   "metadata": {},
   "outputs": [
    {
     "name": "stdout",
     "output_type": "stream",
     "text": [
      "Success\n"
     ]
    }
   ],
   "source": [
    "# 成功拷贝，文件也拷贝了？可以使用现有文件夹\n",
    "import os\n",
    "import tempfile\n",
    "\n",
    "dirname1 = \"E:\\\\test\\\\cheatsheets\\\\_IT\" \n",
    "dirname2 = \"E:\\\\test\\\\cheatsheets\"\n",
    "\n",
    "#拷目录\n",
    "os.system (\"xcopy /s %s %s\" % (dirname1, dirname2))\n",
    "if os.path.isdir (dirname2): \n",
    "    print(\"Success\")"
   ]
  },
  {
   "cell_type": "code",
   "execution_count": null,
   "metadata": {},
   "outputs": [],
   "source": [
    "# 不成功拷贝，dirname1 包含了 dirname2\n",
    "import os\n",
    "import tempfile\n",
    "\n",
    "dirname1 = \"E:\\\\test\\\\cheatsheets\" \n",
    "dirname2 = \"E:\\\\test\\\\cheatsheets\\\\_IT\"\n",
    "\n",
    "#拷目录\n",
    "os.system (\"xcopy /s %s %s\" % (dirname1, dirname2))\n",
    "if os.path.isdir (dirname2): \n",
    "    print(\"Success\")"
   ]
  },
  {
   "cell_type": "markdown",
   "metadata": {},
   "source": [
    "## shutil.copy和shutil.copytree"
   ]
  },
  {
   "cell_type": "code",
   "execution_count": 55,
   "metadata": {},
   "outputs": [
    {
     "name": "stdout",
     "output_type": "stream",
     "text": [
      "C:\\Users\\chz\\AppData\\Local\\Temp\\tmpf4plc7wk.txt => C:\\Users\\chz\\AppData\\Local\\Temp\\tmpf4plc7wk.txt.copy\n"
     ]
    }
   ],
   "source": [
    "C:\\Users\\chz\\AppData\\Local\\Temp\\tmpf4plc7wk.txt => C:\\Users\\chz\\AppData\\Local\\Temp\\tmpf4plc7wk.txt.copy\n",
    "import os\n",
    "import shutil\n",
    "import tempfile\n",
    "\n",
    "filename1 = \"E:\\\\test\\\\cheatsheets\" \n",
    "filename2 = \"E:\\\\test\\\\cheatsheets\\\\_IT\"\n",
    "\n",
    "filename1 = tempfile.mktemp (\".txt\")\n",
    "open (filename1, \"w\").close ()\n",
    "filename2 = filename1 + \".copy\"\n",
    "print(filename1, \"=>\", filename2)"
   ]
  },
  {
   "cell_type": "code",
   "execution_count": 60,
   "metadata": {},
   "outputs": [
    {
     "ename": "FileExistsError",
     "evalue": "[WinError 183] 当文件已存在时，无法创建该文件。: 'E:\\\\test\\\\cheatsheets\\\\copy'",
     "output_type": "error",
     "traceback": [
      "\u001b[1;31m---------------------------------------------------------------------------\u001b[0m",
      "\u001b[1;31mFileExistsError\u001b[0m                           Traceback (most recent call last)",
      "\u001b[1;32m<ipython-input-60-640ef0c89188>\u001b[0m in \u001b[0;36m<module>\u001b[1;34m()\u001b[0m\n\u001b[0;32m      7\u001b[0m \u001b[0mdirname2\u001b[0m \u001b[1;33m=\u001b[0m \u001b[1;34m\"E:\\\\test\\\\cheatsheets\\\\copy\"\u001b[0m\u001b[1;33m\u001b[0m\u001b[0m\n\u001b[0;32m      8\u001b[0m \u001b[1;33m\u001b[0m\u001b[0m\n\u001b[1;32m----> 9\u001b[1;33m \u001b[0mshutil\u001b[0m\u001b[1;33m.\u001b[0m\u001b[0mcopytree\u001b[0m \u001b[1;33m(\u001b[0m\u001b[0mdirname1\u001b[0m\u001b[1;33m,\u001b[0m \u001b[0mdirname2\u001b[0m\u001b[1;33m)\u001b[0m\u001b[1;33m\u001b[0m\u001b[0m\n\u001b[0m\u001b[0;32m     10\u001b[0m \u001b[1;33m\u001b[0m\u001b[0m\n\u001b[0;32m     11\u001b[0m \u001b[1;32mif\u001b[0m \u001b[0mos\u001b[0m\u001b[1;33m.\u001b[0m\u001b[0mpath\u001b[0m\u001b[1;33m.\u001b[0m\u001b[0misdir\u001b[0m \u001b[1;33m(\u001b[0m\u001b[0mdirname2\u001b[0m\u001b[1;33m)\u001b[0m\u001b[1;33m:\u001b[0m\u001b[1;33m\u001b[0m\u001b[0m\n",
      "\u001b[1;32mc:\\programdata\\anaconda3\\lib\\shutil.py\u001b[0m in \u001b[0;36mcopytree\u001b[1;34m(src, dst, symlinks, ignore, copy_function, ignore_dangling_symlinks)\u001b[0m\n\u001b[0;32m    313\u001b[0m         \u001b[0mignored_names\u001b[0m \u001b[1;33m=\u001b[0m \u001b[0mset\u001b[0m\u001b[1;33m(\u001b[0m\u001b[1;33m)\u001b[0m\u001b[1;33m\u001b[0m\u001b[0m\n\u001b[0;32m    314\u001b[0m \u001b[1;33m\u001b[0m\u001b[0m\n\u001b[1;32m--> 315\u001b[1;33m     \u001b[0mos\u001b[0m\u001b[1;33m.\u001b[0m\u001b[0mmakedirs\u001b[0m\u001b[1;33m(\u001b[0m\u001b[0mdst\u001b[0m\u001b[1;33m)\u001b[0m\u001b[1;33m\u001b[0m\u001b[0m\n\u001b[0m\u001b[0;32m    316\u001b[0m     \u001b[0merrors\u001b[0m \u001b[1;33m=\u001b[0m \u001b[1;33m[\u001b[0m\u001b[1;33m]\u001b[0m\u001b[1;33m\u001b[0m\u001b[0m\n\u001b[0;32m    317\u001b[0m     \u001b[1;32mfor\u001b[0m \u001b[0mname\u001b[0m \u001b[1;32min\u001b[0m \u001b[0mnames\u001b[0m\u001b[1;33m:\u001b[0m\u001b[1;33m\u001b[0m\u001b[0m\n",
      "\u001b[1;32mc:\\programdata\\anaconda3\\lib\\os.py\u001b[0m in \u001b[0;36mmakedirs\u001b[1;34m(name, mode, exist_ok)\u001b[0m\n\u001b[0;32m    218\u001b[0m             \u001b[1;32mreturn\u001b[0m\u001b[1;33m\u001b[0m\u001b[0m\n\u001b[0;32m    219\u001b[0m     \u001b[1;32mtry\u001b[0m\u001b[1;33m:\u001b[0m\u001b[1;33m\u001b[0m\u001b[0m\n\u001b[1;32m--> 220\u001b[1;33m         \u001b[0mmkdir\u001b[0m\u001b[1;33m(\u001b[0m\u001b[0mname\u001b[0m\u001b[1;33m,\u001b[0m \u001b[0mmode\u001b[0m\u001b[1;33m)\u001b[0m\u001b[1;33m\u001b[0m\u001b[0m\n\u001b[0m\u001b[0;32m    221\u001b[0m     \u001b[1;32mexcept\u001b[0m \u001b[0mOSError\u001b[0m\u001b[1;33m:\u001b[0m\u001b[1;33m\u001b[0m\u001b[0m\n\u001b[0;32m    222\u001b[0m         \u001b[1;31m# Cannot rely on checking for EEXIST, since the operating system\u001b[0m\u001b[1;33m\u001b[0m\u001b[1;33m\u001b[0m\u001b[0m\n",
      "\u001b[1;31mFileExistsError\u001b[0m: [WinError 183] 当文件已存在时，无法创建该文件。: 'E:\\\\test\\\\cheatsheets\\\\copy'"
     ]
    }
   ],
   "source": [
    "# 成功拷贝，文件也拷贝了？不能拷贝到现有文件夹\n",
    "import os\n",
    "import shutil\n",
    "import tempfile\n",
    "\n",
    "dirname1 = \"E:\\\\test\\\\cheatsheets\\\\_IT\" \n",
    "dirname2 = \"E:\\\\test\\\\cheatsheets\\\\copy\"\n",
    "\n",
    "shutil.copytree (dirname1, dirname2)\n",
    " \n",
    "if os.path.isdir (dirname2): \n",
    "    print(\"Success\")"
   ]
  },
  {
   "cell_type": "code",
   "execution_count": null,
   "metadata": {},
   "outputs": [],
   "source": [
    "!xcopy E:\\test\\cheatsheets\\_IT E:\\test\\cheatsheets\\_copy /T /E"
   ]
  },
  {
   "cell_type": "code",
   "execution_count": 63,
   "metadata": {},
   "outputs": [
    {
     "name": "stdout",
     "output_type": "stream",
     "text": [
      "5050\n"
     ]
    }
   ],
   "source": [
    "def sumOfN(n):\n",
    "    theSum = 0\n",
    "    for i in range(1,n+1):\n",
    "        theSum = theSum + i\n",
    "\n",
    "    return theSum\n",
    "\n",
    "print(sumOfN(100))"
   ]
  }
 ],
 "metadata": {
  "kernelspec": {
   "display_name": "Python 3",
   "language": "python",
   "name": "python3"
  },
  "language_info": {
   "codemirror_mode": {
    "name": "ipython",
    "version": 3
   },
   "file_extension": ".py",
   "mimetype": "text/x-python",
   "name": "python",
   "nbconvert_exporter": "python",
   "pygments_lexer": "ipython3",
   "version": "3.6.6"
  },
  "toc": {
   "base_numbering": 1,
   "nav_menu": {},
   "number_sections": true,
   "sideBar": true,
   "skip_h1_title": false,
   "title_cell": "Table of Contents",
   "title_sidebar": "Contents",
   "toc_cell": false,
   "toc_position": {},
   "toc_section_display": true,
   "toc_window_display": false
  }
 },
 "nbformat": 4,
 "nbformat_minor": 2
}
