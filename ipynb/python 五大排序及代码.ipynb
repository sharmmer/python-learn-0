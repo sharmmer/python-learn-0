{
 "cells": [
  {
   "cell_type": "markdown",
   "metadata": {},
   "source": [
    "# python 五大排序及代码\n"
   ]
  },
  {
   "attachments": {},
   "cell_type": "markdown",
   "metadata": {},
   "source": [
    "## 冒泡排序\n",
    "![](https://img-blog.csdn.net/20170214180857870?watermark/2/text/aHR0cDovL2Jsb2cuY3Nkbi5uZXQvaGlfY2hlbl94aW5nd2FuZw==/font/5a6L5L2T/fontsize/400/fill/I0JBQkFCMA==/dissolve/70/gravity/SouthEast)"
   ]
  },
  {
   "cell_type": "code",
   "execution_count": 4,
   "metadata": {},
   "outputs": [
    {
     "name": "stdout",
     "output_type": "stream",
     "text": [
      "[2, 13, 34, 52, 12, 56]\n"
     ]
    }
   ],
   "source": [
    "# bubble sort\n",
    "array = [2,34,52,13,56,12]\n",
    "\n",
    "for a in range(len(array)):\n",
    "    for b in range(0,a):\n",
    "         if array[b] > array[b + 1] :\n",
    "             array[b] , array[b + 1] = array[b + 1] , array[b]\n",
    "\n",
    "print(array)"
   ]
  },
  {
   "cell_type": "markdown",
   "metadata": {},
   "source": [
    "## 选择排序\n",
    "![](https://img-blog.csdn.net/20170214181402356?watermark/2/text/aHR0cDovL2Jsb2cuY3Nkbi5uZXQvaGlfY2hlbl94aW5nd2FuZw==/font/5a6L5L2T/fontsize/400/fill/I0JBQkFCMA==/dissolve/70/gravity/SouthEast)"
   ]
  },
  {
   "cell_type": "code",
   "execution_count": 5,
   "metadata": {
    "scrolled": true
   },
   "outputs": [
    {
     "name": "stdout",
     "output_type": "stream",
     "text": [
      "[2, 12, 13, 34, 52, 56]\n"
     ]
    }
   ],
   "source": [
    "# selectSort\n",
    "array = [2,34,52,13,56,12]\n",
    "for i in range(len(array) - 1):\n",
    "    index = i\n",
    "    for j in range(i,len(array)):\n",
    "        if array[index] > array[j]:\n",
    "            index = j\n",
    "    array[i],array[index] = array[index],array[i]\n",
    "\n",
    "print(array)"
   ]
  },
  {
   "cell_type": "markdown",
   "metadata": {},
   "source": [
    "## 插入排序\n",
    "![](https://img-blog.csdn.net/20170214181606208?watermark/2/text/aHR0cDovL2Jsb2cuY3Nkbi5uZXQvaGlfY2hlbl94aW5nd2FuZw==/font/5a6L5L2T/fontsize/400/fill/I0JBQkFCMA==/dissolve/70/gravity/SouthEast)"
   ]
  },
  {
   "cell_type": "code",
   "execution_count": 7,
   "metadata": {
    "scrolled": true
   },
   "outputs": [
    {
     "name": "stdout",
     "output_type": "stream",
     "text": [
      "[2, 12, 13, 34, 52, 56]\n"
     ]
    }
   ],
   "source": [
    "# INSERT SORT\n",
    "array = [2,34,52,13,56,12]\n",
    "for i in range(1,len(array)):\n",
    "    key = array[i]\n",
    "    j = i - 1\n",
    "    while j >= 0:\n",
    "        if array[j] > key:\n",
    "            array[j + 1] = array[j]\n",
    "            array[j] = key\n",
    "        j -= 1\n",
    "print(array)"
   ]
  },
  {
   "cell_type": "markdown",
   "metadata": {},
   "source": [
    "## 归并排序\n",
    "![](https://img-blog.csdn.net/20170214181733092?watermark/2/text/aHR0cDovL2Jsb2cuY3Nkbi5uZXQvaGlfY2hlbl94aW5nd2FuZw==/font/5a6L5L2T/fontsize/400/fill/I0JBQkFCMA==/dissolve/70/gravity/SouthEast)"
   ]
  },
  {
   "cell_type": "code",
   "execution_count": 20,
   "metadata": {},
   "outputs": [
    {
     "name": "stdout",
     "output_type": "stream",
     "text": [
      "[2, 12, 13, 34, 52, 56]\n"
     ]
    }
   ],
   "source": [
    "#!/usr/bin/env python\n",
    "#-*-encoding:utf-8-*-\n",
    "# merge sort\n",
    "\n",
    "def merge_sort(array):\n",
    "    if len(array) <= 1:\n",
    "        return array\n",
    "    left = merge_sort(array[:len(array)//2]) # \"/\" 产生错误slice indices must be integers or None or have an __index__ method\n",
    "    right = merge_sort(array[len(array)//2:len(array)])#\"/\" 改成 \"//\"正常\n",
    "    result = []\n",
    "    while len(left) > 0 and len(right) > 0:\n",
    "        if left[0] > right[0]:\n",
    "            result.append(right.pop(0))\n",
    "        else:\n",
    "            result.append(left.pop(0))\n",
    "    if (len(left) > 0):\n",
    "        result.extend(merge_sort(left))\n",
    "    else:\n",
    "        result.extend(merge_sort(right))\n",
    "    return result\n",
    "\n",
    "def main():\n",
    "    array = [2,34,52,13,56,12]\n",
    "    print((merge_sort(array)))\n",
    "\n",
    "if __name__ == '__main__':\n",
    "    main()"
   ]
  },
  {
   "cell_type": "markdown",
   "metadata": {},
   "source": [
    "## 快速排序\n",
    "![](https://img-blog.csdn.net/20170214181927561?watermark/2/text/aHR0cDovL2Jsb2cuY3Nkbi5uZXQvaGlfY2hlbl94aW5nd2FuZw==/font/5a6L5L2T/fontsize/400/fill/I0JBQkFCMA==/dissolve/70/gravity/SouthEast)\n",
    "![](https://img-blog.csdn.net/20170214181952171?watermark/2/text/aHR0cDovL2Jsb2cuY3Nkbi5uZXQvaGlfY2hlbl94aW5nd2FuZw==/font/5a6L5L2T/fontsize/400/fill/I0JBQkFCMA==/dissolve/70/gravity/SouthEast)"
   ]
  },
  {
   "cell_type": "code",
   "execution_count": 21,
   "metadata": {},
   "outputs": [
    {
     "name": "stdout",
     "output_type": "stream",
     "text": [
      "[2, 12, 13, 34, 52, 56]\n"
     ]
    }
   ],
   "source": [
    "#!/usr/bin/env python\n",
    "#-*-encoding:utf-8-*-\n",
    "# quick sort\n",
    "\n",
    "def quicksort(array,left,right):\n",
    "    if left < right:\n",
    "        pivot_index = partition(array, left, right)\n",
    "        quicksort(array,left,pivot_index - 1)\n",
    "        quicksort(array,pivot_index + 1,right)\n",
    "\n",
    "def partition(array, left, right):\n",
    "    pivot_index = left\n",
    "    pivot = array[left]\n",
    "    for i in range(left + 1,right + 1):\n",
    "        if array[i] < pivot:\n",
    "            # 如果此处索引的值小于基准值, 基准值的位置后移一位\n",
    "            # 并将后移一位的值和这个值交换, 让基准位置及之前的始终小于基准值\n",
    "            pivot_index += 1\n",
    "            if pivot_index != i:\n",
    "                array[pivot_index],array[i] = array[i],array[pivot_index]\n",
    "\n",
    "    # 将基准值移动到正确的位置\n",
    "    array[left], array[pivot_index] = array[pivot_index], array[left]\n",
    "    return pivot_index\n",
    "\n",
    "def main():\n",
    "    array = [2,34,52,13,56,12]\n",
    "    quicksort(array, 0, len(array)-1)\n",
    "    print(array)\n",
    "\n",
    "if __name__ == '__main__':\n",
    "    main()"
   ]
  }
 ],
 "metadata": {
  "kernelspec": {
   "display_name": "Python 3",
   "language": "python",
   "name": "python3"
  },
  "language_info": {
   "codemirror_mode": {
    "name": "ipython",
    "version": 3
   },
   "file_extension": ".py",
   "mimetype": "text/x-python",
   "name": "python",
   "nbconvert_exporter": "python",
   "pygments_lexer": "ipython3",
   "version": "3.6.6"
  },
  "toc": {
   "base_numbering": 1,
   "nav_menu": {},
   "number_sections": true,
   "sideBar": true,
   "skip_h1_title": false,
   "title_cell": "Table of Contents",
   "title_sidebar": "Contents",
   "toc_cell": false,
   "toc_position": {},
   "toc_section_display": true,
   "toc_window_display": false
  }
 },
 "nbformat": 4,
 "nbformat_minor": 2
}
