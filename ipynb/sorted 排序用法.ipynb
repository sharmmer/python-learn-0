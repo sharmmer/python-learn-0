{
 "cells": [
  {
   "cell_type": "code",
   "execution_count": 23,
   "metadata": {
    "scrolled": true
   },
   "outputs": [
    {
     "name": "stdout",
     "output_type": "stream",
     "text": [
      "['pragmatic, immediate, approximate, backport, circumstance, coercion']\n",
      "['approximate', 'backport', 'circumstance', 'coercion', 'immediate', 'pragmatic']\n",
      "['pragmatic, immediate, approximate, backport, circumstance, coercion']\n",
      "['approximate', 'backport', 'circumstance', 'coercion', 'immediate', 'pragmatic']\n",
      "[' ', ' ', ' ', ' ', ' ', ',', ',', ',', ',', ',', 'a', 'a', 'a', 'a', 'a', 'a', 'a', 'b', 'c', 'c', 'c', 'c', 'c', 'c', 'c', 'd', 'e', 'e', 'e', 'e', 'e', 'g', 'i', 'i', 'i', 'i', 'i', 'i', 'k', 'm', 'm', 'm', 'm', 'm', 'n', 'n', 'o', 'o', 'o', 'o', 'p', 'p', 'p', 'p', 'r', 'r', 'r', 'r', 'r', 's', 't', 't', 't', 't', 't', 'u', 'x']\n",
      "['approximate', 'backport', 'circumstance', 'coercion', 'immediate', 'pragmatic']\n"
     ]
    }
   ],
   "source": [
    "stringa = (\"pragmatic, immediate, approximate, backport, circumstance, coercion\")\n",
    "stringb = (\"pragmatic\", \"immediate\", \"approximate\", \"backport\", \"circumstance\", \"coercion\")\n",
    "lista = ['pragmatic, immediate, approximate, backport, circumstance, coercion']\n",
    "listb = [\"pragmatic\", \"immediate\", \"approximate\", \"backport\", \"circumstance\", \"coercion\"]\n",
    "Dicta ={\"pragmatic, immediate, approximate, backport, circumstance, coercion\"}\n",
    "Dictb ={\"pragmatic\", \"immediate\", \"approximate\", \"backport\", \"circumstance\", \"coercion\"}\n",
    "sorted(Dicta)\n",
    "print(sorted(Dicta))\n",
    "print(sorted(Dictb))\n",
    "print(sorted(lista))\n",
    "print(sorted(listb))\n",
    "print(sorted(stringa))\n",
    "print(sorted(stringb))"
   ]
  },
  {
   "cell_type": "code",
   "execution_count": 26,
   "metadata": {},
   "outputs": [
    {
     "name": "stdout",
     "output_type": "stream",
     "text": [
      "please input three wordspragmatic, immediate, approximate, backport, circumstance, coercion, compound, contiguous, decoupling, deliberately, dispatch, encapsulation, generic function, granularity, gratuitously, heterogeneous, hierarchies, homogeneous, inheritance, introspection, polymorphism, precedence, provisional, robust, short-circuit, wildcard, open-circuit, contingency, feedback, sinusoidal\n",
      "['approximate,', 'backport,', 'circumstance,', 'coercion,', 'compound,', 'contiguous,', 'contingency,', 'decoupling,', 'deliberately,', 'dispatch,', 'encapsulation,', 'feedback,', 'function,', 'generic', 'granularity,', 'gratuitously,', 'heterogeneous,', 'hierarchies,', 'homogeneous,', 'immediate,', 'inheritance,', 'introspection,', 'open-circuit,', 'polymorphism,', 'pragmatic,', 'precedence,', 'provisional,', 'robust,', 'short-circuit,', 'sinusoidal', 'wildcard,']\n"
     ]
    }
   ],
   "source": [
    "words=input(\"please input three words\")\n",
    "print(sorted(words.split()))"
   ]
  },
  {
   "cell_type": "code",
   "execution_count": 29,
   "metadata": {},
   "outputs": [
    {
     "name": "stdout",
     "output_type": "stream",
     "text": [
      "['approximate,', 'backport,', 'circumstance,', 'coercion,', 'compound,', 'contiguous,', 'contingency,', 'decoupling,', 'deliberately,', 'dispatch,', 'encapsulation,', 'feedback,', 'function,', 'generic', 'granularity,', 'gratuitously,', 'heterogeneous,', 'hierarchies,', 'homogeneous,', 'immediate,', 'inheritance,', 'introspection,', 'open-circuit,', 'polymorphism,', 'pragmatic,', 'precedence,', 'provisional,', 'robust,', 'short-circuit,', 'sinusoidal', 'wildcard,']\n"
     ]
    }
   ],
   "source": [
    "ListCA = ['approximate,', 'backport,', 'circumstance,', 'coercion,', 'compound,', 'contiguous,', 'contingency,', 'decoupling,', 'deliberately,', 'dispatch,', 'encapsulation,', 'feedback,', 'function,', 'generic', 'granularity,', 'gratuitously,', 'heterogeneous,', 'hierarchies,', 'homogeneous,', 'immediate,', 'inheritance,', 'introspection,', 'open-circuit,', 'polymorphism,', 'pragmatic,', 'precedence,', 'provisional,', 'robust,', 'short-circuit,', 'sinusoidal', 'wildcard,']\n",
    "print(ListCA)"
   ]
  }
 ],
 "metadata": {
  "kernelspec": {
   "display_name": "Python 3",
   "language": "python",
   "name": "python3"
  },
  "language_info": {
   "codemirror_mode": {
    "name": "ipython",
    "version": 3
   },
   "file_extension": ".py",
   "mimetype": "text/x-python",
   "name": "python",
   "nbconvert_exporter": "python",
   "pygments_lexer": "ipython3",
   "version": "3.6.6"
  },
  "toc": {
   "base_numbering": 1,
   "nav_menu": {},
   "number_sections": true,
   "sideBar": true,
   "skip_h1_title": false,
   "title_cell": "Table of Contents",
   "title_sidebar": "Contents",
   "toc_cell": false,
   "toc_position": {},
   "toc_section_display": true,
   "toc_window_display": false
  }
 },
 "nbformat": 4,
 "nbformat_minor": 2
}
