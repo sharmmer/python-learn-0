{
 "cells": [
  {
   "cell_type": "markdown",
   "metadata": {},
   "source": [
    "# Python的基本数据类型\n",
    "http://www.cnblogs.com/vamei/archive/2012/05/28/2522385.html"
   ]
  },
  {
   "cell_type": "markdown",
   "metadata": {},
   "source": [
    "## 变量不需要声明"
   ]
  },
  {
   "cell_type": "code",
   "execution_count": 6,
   "metadata": {
    "scrolled": false
   },
   "outputs": [
    {
     "name": "stdout",
     "output_type": "stream",
     "text": [
      "1 <class 'int'>\n"
     ]
    }
   ],
   "source": [
    "a = 1\n",
    "print(a,type(a))"
   ]
  },
  {
   "cell_type": "markdown",
   "metadata": {},
   "source": [
    "## 回收变量名"
   ]
  },
  {
   "cell_type": "code",
   "execution_count": 7,
   "metadata": {},
   "outputs": [
    {
     "name": "stdout",
     "output_type": "stream",
     "text": [
      "1.3 <class 'float'>\n"
     ]
    }
   ],
   "source": [
    "a = 1.3  #如果你想让a存储不同的数据，你不需要删除原有变量就可以直接赋值。\n",
    "print(a,type(a)) "
   ]
  },
  {
   "cell_type": "markdown",
   "metadata": {},
   "source": [
    "## 基本数据类型"
   ]
  },
  {
   "cell_type": "code",
   "execution_count": 8,
   "metadata": {},
   "outputs": [
    {
     "name": "stdout",
     "output_type": "stream",
     "text": [
      "<class 'int'> <class 'float'> <class 'bool'> <class 'str'>\n"
     ]
    }
   ],
   "source": [
    "a=10         # int 整数\n",
    "\n",
    "b=1.3        # float 浮点数\n",
    "\n",
    "c=True       # 真值bool (True/False)\n",
    "\n",
    "d='Hello!'   # 字符串str。字符串也可以用双引号。\n",
    "\n",
    "print (type(a),type(b),type(c),type(d))"
   ]
  },
  {
   "cell_type": "code",
   "execution_count": 1,
   "metadata": {},
   "outputs": [
    {
     "name": "stdout",
     "output_type": "stream",
     "text": [
      "[1, 2]\n",
      "2816237367888 2816247392072 1515023440 2816236307152 2816238021008 2816237419464 2816241718296 2816236761232 1514533024\n",
      "<class 'tuple'> <class 'list'> <class 'int'> <class 'float'> <class 'complex'> <class 'str'> <class 'int'> <class 'dict'> <class 'bool'>\n",
      "(2, 1.3, 'love', 5.6, 9, 12, False) [True, 5, 'smile'] 3 -3.14 (8-9j) abcdef 62738972398715135111 {'name': 'Allen', 'age': 21, 'gender': 'male'} True\n",
      "[]\n"
     ]
    }
   ],
   "source": [
    "s1 = (2, 1.3, 'love', 5.6, 9, 12, False) # tuple数组()，并包含保留字或非数字符串,tuple的各个元素不可再变更\n",
    "s2 = [True, 5, 'smile'] # list表[]，而list的各个元素可以再变更。\n",
    "s3 = 3 # int整数\n",
    "s4 = -3.14 # float浮点数\n",
    "s5 = 8-9j # complex复数\n",
    "s6 = 'abcdef'# string字符串\n",
    "s7 = 62738972398715135111 # 整数，PY3.0后 ，BIG INT已经全部统一为INT\n",
    "s8 = {'name':'Allen','age':21,'gender':'male'} # 字典{}\n",
    "s9 = (1 > -9) # bool 属于int\n",
    "\n",
    "class superList(list):\n",
    "    def __sub__(self, b):\n",
    "        a = self[:]     # 这里，self是supeList的对象。由于superList继承于list，它可以利用和list[:]相同的引用方法来表示整个对象。\n",
    "        b = b[:]        \n",
    "        while len(b) > 0:\n",
    "            element_b = b.pop()\n",
    "            if element_b in a:\n",
    "                a.remove(element_b)\n",
    "        return a\n",
    "                \n",
    "print (superList([1,2,3]) - superList([3,4]))\n",
    "print (id(s1),id(s2),id(s3),id(s4),id(s5),id(s6),id(s7),id(s8),id(s9))\n",
    "print (type(s1),type(s2),type(s3),type(s4),type(s5),type(s6),type(s7),type(s8),type(s9))\n",
    "print (s1,s2,s3,s4,s5,s6,s7,s8,s9)\n",
    "print (superList())"
   ]
  },
  {
   "cell_type": "code",
   "execution_count": null,
   "metadata": {},
   "outputs": [],
   "source": []
  },
  {
   "cell_type": "code",
   "execution_count": null,
   "metadata": {},
   "outputs": [],
   "source": []
  }
 ],
 "metadata": {
  "kernelspec": {
   "display_name": "Python 3",
   "language": "python",
   "name": "python3"
  },
  "language_info": {
   "codemirror_mode": {
    "name": "ipython",
    "version": 3
   },
   "file_extension": ".py",
   "mimetype": "text/x-python",
   "name": "python",
   "nbconvert_exporter": "python",
   "pygments_lexer": "ipython3",
   "version": "3.6.6"
  },
  "toc": {
   "base_numbering": 1,
   "nav_menu": {},
   "number_sections": true,
   "sideBar": true,
   "skip_h1_title": false,
   "title_cell": "Table of Contents",
   "title_sidebar": "Contents",
   "toc_cell": false,
   "toc_position": {},
   "toc_section_display": true,
   "toc_window_display": false
  }
 },
 "nbformat": 4,
 "nbformat_minor": 2
}
