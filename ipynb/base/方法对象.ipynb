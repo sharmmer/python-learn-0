{
 "cells": [
  {
   "cell_type": "markdown",
   "metadata": {},
   "source": [
    "# 方法对象\n",
    "问题：为了让下面这段代码运行，需要增加哪些代码？"
   ]
  },
  {
   "cell_type": "code",
   "execution_count": 2,
   "metadata": {},
   "outputs": [
    {
     "name": "stdout",
     "output_type": "stream",
     "text": [
      "a= 10 b= 20\n"
     ]
    },
    {
     "ename": "TypeError",
     "evalue": "'A' object is not callable",
     "output_type": "error",
     "traceback": [
      "\u001b[1;31m---------------------------------------------------------------------------\u001b[0m",
      "\u001b[1;31mTypeError\u001b[0m                                 Traceback (most recent call last)",
      "\u001b[1;32m<ipython-input-2-78d83831004c>\u001b[0m in \u001b[0;36m<module>\u001b[1;34m()\u001b[0m\n\u001b[0;32m      9\u001b[0m \u001b[0ma1\u001b[0m\u001b[1;33m.\u001b[0m\u001b[0mmyprint\u001b[0m\u001b[1;33m(\u001b[0m\u001b[1;33m)\u001b[0m\u001b[1;33m\u001b[0m\u001b[0m\n\u001b[0;32m     10\u001b[0m \u001b[1;33m\u001b[0m\u001b[0m\n\u001b[1;32m---> 11\u001b[1;33m \u001b[0ma1\u001b[0m\u001b[1;33m(\u001b[0m\u001b[1;36m80\u001b[0m\u001b[1;33m)\u001b[0m\u001b[1;33m\u001b[0m\u001b[0m\n\u001b[0m",
      "\u001b[1;31mTypeError\u001b[0m: 'A' object is not callable"
     ]
    }
   ],
   "source": [
    "class A(object):\n",
    "    def __init__(self,a,b):\n",
    "        self.__a = a\n",
    "        self.__b = b\n",
    "    def myprint(self):\n",
    "        print 'a=', self.__a, 'b=', self.__b\n",
    "\n",
    "a1=A(10,20)\n",
    "a1.myprint()\n",
    "\n",
    "a1(80)"
   ]
  },
  {
   "cell_type": "code",
   "execution_count": 13,
   "metadata": {},
   "outputs": [
    {
     "name": "stdout",
     "output_type": "stream",
     "text": [
      "a= 10 b= 20\n",
      "call: 90\n"
     ]
    }
   ],
   "source": [
    "class A(object):\n",
    "    def __init__(self,a,b):\n",
    "        self.__a = a\n",
    "        self.__b = b\n",
    "    def myprint(self):\n",
    "        print('a=', self.__a, 'b=', self.__b)\n",
    "    def __call__(self, num):\n",
    "        print('call:', num + self.__a)\n",
    "\n",
    "a1=A(10,20)\n",
    "a1.myprint()\n",
    "\n",
    "a1(80)"
   ]
  }
 ],
 "metadata": {
  "kernelspec": {
   "display_name": "Python 3",
   "language": "python",
   "name": "python3"
  },
  "language_info": {
   "codemirror_mode": {
    "name": "ipython",
    "version": 3
   },
   "file_extension": ".py",
   "mimetype": "text/x-python",
   "name": "python",
   "nbconvert_exporter": "python",
   "pygments_lexer": "ipython3",
   "version": "3.6.6"
  },
  "toc": {
   "base_numbering": 1,
   "nav_menu": {},
   "number_sections": true,
   "sideBar": true,
   "skip_h1_title": false,
   "title_cell": "Table of Contents",
   "title_sidebar": "Contents",
   "toc_cell": false,
   "toc_position": {},
   "toc_section_display": true,
   "toc_window_display": false
  }
 },
 "nbformat": 4,
 "nbformat_minor": 2
}
