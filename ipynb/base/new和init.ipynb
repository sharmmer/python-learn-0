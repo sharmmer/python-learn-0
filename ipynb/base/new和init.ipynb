{
 "cells": [
  {
   "cell_type": "code",
   "execution_count": null,
   "metadata": {},
   "outputs": [],
   "source": []
  },
  {
   "cell_type": "markdown",
   "metadata": {},
   "source": [
    "使用new方法，可以决定返回那个对象，也就是创建对象之前，这个可以用于设计模式的单例、工厂模式。init是创建对象是调用的。"
   ]
  },
  {
   "cell_type": "code",
   "execution_count": 2,
   "metadata": {},
   "outputs": [
    {
     "name": "stdout",
     "output_type": "stream",
     "text": [
      "NEW 5\n",
      "B INIT\n",
      "B fn\n",
      "NEW 20\n",
      "INIT 20\n",
      "A fn\n"
     ]
    }
   ],
   "source": [
    "class B(object):\n",
    "    def fn(self):\n",
    "        print('B fn')\n",
    "    def __init__(self):\n",
    "        print(\"B INIT\")\n",
    "\n",
    "class A(object):\n",
    "    def fn(self):\n",
    "        print('A fn')\n",
    "\n",
    "    def __new__(cls,a):\n",
    "            print(\"NEW\", a)\n",
    "            if a>10:\n",
    "                return super(A, cls).__new__(cls)\n",
    "            return B()\n",
    "\n",
    "    def __init__(self,a):\n",
    "        print(\"INIT\", a)\n",
    "\n",
    "a1 = A(5)\n",
    "a1.fn()\n",
    "a2=A(20)\n",
    "a2.fn()"
   ]
  },
  {
   "cell_type": "code",
   "execution_count": 3,
   "metadata": {},
   "outputs": [
    {
     "name": "stdout",
     "output_type": "stream",
     "text": [
      "NEW 5\n",
      "B INIT\n"
     ]
    }
   ],
   "source": [
    "class B(object):\n",
    "    def fn(self):\n",
    "        print('B fn')\n",
    "    def __init__(self):\n",
    "        print(\"B INIT\")\n",
    "\n",
    "class A(object):\n",
    "    def fn(self):\n",
    "        print('A fn')\n",
    "\n",
    "    def __new__(cls,a):\n",
    "            print(\"NEW\", a)\n",
    "            if a>10:\n",
    "                return super(A, cls).__new__(cls)\n",
    "            return B()\n",
    "\n",
    "    def __init__(self,a):\n",
    "        print(\"INIT\", a)\n",
    "\n",
    "a1 = A(5)"
   ]
  },
  {
   "cell_type": "code",
   "execution_count": 5,
   "metadata": {},
   "outputs": [
    {
     "name": "stdout",
     "output_type": "stream",
     "text": [
      "B fn\n"
     ]
    }
   ],
   "source": [
    "\n",
    "a1.fn()"
   ]
  },
  {
   "cell_type": "code",
   "execution_count": 6,
   "metadata": {},
   "outputs": [
    {
     "name": "stdout",
     "output_type": "stream",
     "text": [
      "NEW 20\n",
      "INIT 20\n"
     ]
    }
   ],
   "source": [
    "a2=A(20)"
   ]
  },
  {
   "cell_type": "code",
   "execution_count": 7,
   "metadata": {},
   "outputs": [
    {
     "name": "stdout",
     "output_type": "stream",
     "text": [
      "A fn\n"
     ]
    }
   ],
   "source": [
    "a2.fn()"
   ]
  }
 ],
 "metadata": {
  "kernelspec": {
   "display_name": "Python 3",
   "language": "python",
   "name": "python3"
  },
  "language_info": {
   "codemirror_mode": {
    "name": "ipython",
    "version": 3
   },
   "file_extension": ".py",
   "mimetype": "text/x-python",
   "name": "python",
   "nbconvert_exporter": "python",
   "pygments_lexer": "ipython3",
   "version": "3.6.6"
  },
  "toc": {
   "base_numbering": 1,
   "nav_menu": {},
   "number_sections": true,
   "sideBar": true,
   "skip_h1_title": false,
   "title_cell": "Table of Contents",
   "title_sidebar": "Contents",
   "toc_cell": false,
   "toc_position": {},
   "toc_section_display": true,
   "toc_window_display": false
  }
 },
 "nbformat": 4,
 "nbformat_minor": 2
}
