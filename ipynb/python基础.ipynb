{
 "cells": [
  {
   "cell_type": "markdown",
   "metadata": {},
   "source": [
    "**PYTHON 基础**\n",
    "基础不牢，地动山摇|机器学习常用模块复习精讲\n",
    "https://mp.weixin.qq.com/s/bzQJed9TvcGaZUmXzl9lng"
   ]
  },
  {
   "cell_type": "markdown",
   "metadata": {},
   "source": [
    "# 1. python基础\n",
    "\n",
    "## (1).字符串吗"
   ]
  },
  {
   "cell_type": "code",
   "execution_count": 3,
   "metadata": {
    "scrolled": true
   },
   "outputs": [
    {
     "name": "stdout",
     "output_type": "stream",
     "text": [
      "ABC\n",
      "abc\n",
      "abcabc\n",
      "abc\n",
      "abc\n",
      "Abc\n"
     ]
    }
   ],
   "source": [
    "print(\"abc\".upper())#转为大写\n",
    "print(\"ABC\".lower())#转为小写\n",
    "print(\"abc\"+\"abc\")#合并\n",
    "print(\"abc   \".rstrip())#删除最右边(结尾)的空白(不改变\"abc \"的档案,只是结果删除)\n",
    "print(\"   abc\".lstrip())#删除最左边(开头)空白\n",
    "print(\"abc\".title())#首字母变成大写"
   ]
  },
  {
   "cell_type": "markdown",
   "metadata": {},
   "source": [
    "## (2).常数"
   ]
  },
  {
   "cell_type": "code",
   "execution_count": 8,
   "metadata": {},
   "outputs": [
    {
     "data": {
      "text/plain": [
       "0.30000000000000004"
      ]
     },
     "execution_count": 8,
     "metadata": {},
     "output_type": "execute_result"
    }
   ],
   "source": [
    "#整数和浮点数不能直接相乘\n",
    "3*0.1 \n"
   ]
  },
  {
   "cell_type": "code",
   "execution_count": 11,
   "metadata": {},
   "outputs": [
    {
     "data": {
      "text/plain": [
       "0.30000000000000004"
      ]
     },
     "execution_count": 11,
     "metadata": {},
     "output_type": "execute_result"
    }
   ],
   "source": [
    "3.000*0.1"
   ]
  },
  {
   "cell_type": "markdown",
   "metadata": {},
   "source": [
    "##(3).列表\n",
    "\n",
    "A.读写列表"
   ]
  },
  {
   "cell_type": "code",
   "execution_count": 12,
   "metadata": {},
   "outputs": [
    {
     "ename": "TypeError",
     "evalue": "'type' object is not subscriptable",
     "output_type": "error",
     "traceback": [
      "\u001b[1;31m---------------------------------------------------------------------------\u001b[0m",
      "\u001b[1;31mTypeError\u001b[0m                                 Traceback (most recent call last)",
      "\u001b[1;32m<ipython-input-12-228c9fc8d2e0>\u001b[0m in \u001b[0;36m<module>\u001b[1;34m()\u001b[0m\n\u001b[1;32m----> 1\u001b[1;33m \u001b[0mlist\u001b[0m\u001b[1;33m[\u001b[0m\u001b[1;36m0\u001b[0m\u001b[1;33m]\u001b[0m \u001b[1;31m#第一个元素\u001b[0m\u001b[1;33m\u001b[0m\u001b[0m\n\u001b[0m\u001b[0;32m      2\u001b[0m \u001b[0mlist\u001b[0m\u001b[1;33m[\u001b[0m\u001b[1;33m-\u001b[0m\u001b[1;36m1\u001b[0m\u001b[1;33m]\u001b[0m\u001b[1;31m#最后一个元素\u001b[0m\u001b[1;33m\u001b[0m\u001b[0m\n\u001b[0;32m      3\u001b[0m \u001b[0mlist\u001b[0m\u001b[1;33m[\u001b[0m\u001b[1;33m:\u001b[0m\u001b[1;33m]\u001b[0m \u001b[1;31m#打印全部元素\u001b[0m\u001b[1;33m\u001b[0m\u001b[0m\n\u001b[0;32m      4\u001b[0m \u001b[0mlist\u001b[0m\u001b[1;33m[\u001b[0m\u001b[1;36m0\u001b[0m\u001b[1;33m:\u001b[0m\u001b[1;33m-\u001b[0m\u001b[1;36m1\u001b[0m\u001b[1;33m]\u001b[0m\u001b[1;31m#打印不包括最后一个元素\u001b[0m\u001b[1;33m\u001b[0m\u001b[0m\n\u001b[0;32m      5\u001b[0m \u001b[0mlist\u001b[0m\u001b[1;33m[\u001b[0m\u001b[0ma\u001b[0m\u001b[1;33m:\u001b[0m\u001b[0mb\u001b[0m\u001b[1;33m:\u001b[0m\u001b[0mc\u001b[0m\u001b[1;33m]\u001b[0m\u001b[1;31m#打印a-b,间隔为c\u001b[0m\u001b[1;33m\u001b[0m\u001b[0m\n",
      "\u001b[1;31mTypeError\u001b[0m: 'type' object is not subscriptable"
     ]
    }
   ],
   "source": [
    "list[0] #第一个元素\n",
    "list[-1]#最后一个元素\n",
    "list[:] #打印全部元素\n",
    "list[0:-1]#打印不包括最后一个元素\n",
    "list[a:b:c]#打印a-b,间隔为c\n",
    "list[0::-1]#颠倒数据"
   ]
  },
  {
   "cell_type": "code",
   "execution_count": 13,
   "metadata": {},
   "outputs": [
    {
     "ename": "TypeError",
     "evalue": "descriptor 'append' requires a 'list' object but received a 'str'",
     "output_type": "error",
     "traceback": [
      "\u001b[1;31m---------------------------------------------------------------------------\u001b[0m",
      "\u001b[1;31mTypeError\u001b[0m                                 Traceback (most recent call last)",
      "\u001b[1;32m<ipython-input-13-4da1520074f5>\u001b[0m in \u001b[0;36m<module>\u001b[1;34m()\u001b[0m\n\u001b[1;32m----> 1\u001b[1;33m \u001b[0mlist\u001b[0m\u001b[1;33m.\u001b[0m\u001b[0mappend\u001b[0m\u001b[1;33m(\u001b[0m\u001b[1;34m'data'\u001b[0m\u001b[1;33m)\u001b[0m\u001b[1;31m#正常添加一个元素\u001b[0m\u001b[1;33m\u001b[0m\u001b[0m\n\u001b[0m\u001b[0;32m      2\u001b[0m \u001b[0mlist\u001b[0m\u001b[1;33m.\u001b[0m\u001b[0mextend\u001b[0m\u001b[1;33m(\u001b[0m\u001b[1;34m\"data\"\u001b[0m\u001b[1;33m)\u001b[0m\u001b[1;31m#添加一个列表数据\u001b[0m\u001b[1;33m\u001b[0m\u001b[0m\n\u001b[0;32m      3\u001b[0m \u001b[0mlist\u001b[0m\u001b[1;33m.\u001b[0m\u001b[0minsert\u001b[0m\u001b[1;33m(\u001b[0m\u001b[0mnum\u001b[0m\u001b[1;33m,\u001b[0m\u001b[1;34m'data'\u001b[0m\u001b[1;33m)\u001b[0m\u001b[1;31m#从num位置插入一个数据\u001b[0m\u001b[1;33m\u001b[0m\u001b[0m\n\u001b[0;32m      4\u001b[0m \u001b[1;32mdel\u001b[0m \u001b[0mlist\u001b[0m\u001b[1;33m[\u001b[0m\u001b[0mnum\u001b[0m\u001b[1;33m]\u001b[0m\u001b[1;31m#删除num位置元素\u001b[0m\u001b[1;33m\u001b[0m\u001b[0m\n\u001b[0;32m      5\u001b[0m \u001b[0mlist\u001b[0m\u001b[1;33m.\u001b[0m\u001b[0mremove\u001b[0m\u001b[1;33m(\u001b[0m\u001b[1;34m'data'\u001b[0m\u001b[1;33m)\u001b[0m\u001b[1;31m#删除名字为\"data\"的数据\u001b[0m\u001b[1;33m\u001b[0m\u001b[0m\n",
      "\u001b[1;31mTypeError\u001b[0m: descriptor 'append' requires a 'list' object but received a 'str'"
     ]
    }
   ],
   "source": [
    "list.append('data')#正常添加一个元素\n",
    "list.extend(\"data\")#添加一个列表数据\n",
    "list.insert(num,'data')#从num位置插入一个数据\n",
    "del list[num]#删除num位置元素\n",
    "list.remove('data')#删除名字为\"data\"的数据\n",
    "list.sort(bool)#排序列表(永久)\n",
    "sorted(list)#排序列表(临时排序)\n",
    "list.reverse()#颠倒列表,可用上面\"读写列表的list[0::-1]进行颠倒\"\n",
    "len(list)#列表长度\n",
    "min(list)\n",
    "max(list)"
   ]
  },
  {
   "cell_type": "code",
   "execution_count": 16,
   "metadata": {
    "scrolled": true
   },
   "outputs": [
    {
     "ename": "NameError",
     "evalue": "name 'list2' is not defined",
     "output_type": "error",
     "traceback": [
      "\u001b[1;31m---------------------------------------------------------------------------\u001b[0m",
      "\u001b[1;31mNameError\u001b[0m                                 Traceback (most recent call last)",
      "\u001b[1;32m<ipython-input-16-abd8fc09bd81>\u001b[0m in \u001b[0;36m<module>\u001b[1;34m()\u001b[0m\n\u001b[1;32m----> 1\u001b[1;33m \u001b[0mlist1\u001b[0m \u001b[1;33m=\u001b[0m \u001b[0mlist2\u001b[0m\u001b[1;31m#浅复制\u001b[0m\u001b[1;33m\u001b[0m\u001b[0m\n\u001b[0m\u001b[0;32m      2\u001b[0m \u001b[0mlist1\u001b[0m \u001b[1;33m=\u001b[0m \u001b[0mlist2\u001b[0m\u001b[1;33m[\u001b[0m\u001b[1;36m1\u001b[0m\u001b[1;33m:\u001b[0m\u001b[1;36m2\u001b[0m\u001b[1;33m]\u001b[0m\u001b[1;31m#深度复制\u001b[0m\u001b[1;33m\u001b[0m\u001b[0m\n",
      "\u001b[1;31mNameError\u001b[0m: name 'list2' is not defined"
     ]
    }
   ],
   "source": [
    "list1 = list2#浅复制\n",
    "list1 = list2[1:2]#深度复制"
   ]
  },
  {
   "cell_type": "code",
   "execution_count": 17,
   "metadata": {},
   "outputs": [
    {
     "name": "stdout",
     "output_type": "stream",
     "text": [
      "[10, 20, 4, 50.31]\n"
     ]
    }
   ],
   "source": [
    "# 循环列表\n",
    "values = [10,20,4,50.31]\n",
    "squres = []\n",
    "for x in values:\n",
    "     squres.append(x)\n",
    "print(squres)"
   ]
  },
  {
   "cell_type": "code",
   "execution_count": 19,
   "metadata": {},
   "outputs": [
    {
     "name": "stdout",
     "output_type": "stream",
     "text": [
      "[10, 20, 4, 50.31]\n"
     ]
    }
   ],
   "source": [
    "#列表推导式\n",
    "values = [10,20,4,50.31]\n",
    "squres = [x for x in values]\n",
    "print(squres)"
   ]
  },
  {
   "cell_type": "code",
   "execution_count": 20,
   "metadata": {},
   "outputs": [
    {
     "data": {
      "text/plain": [
       "[100, 16]"
      ]
     },
     "execution_count": 20,
     "metadata": {},
     "output_type": "execute_result"
    }
   ],
   "source": [
    "#推导式中加入条件进行筛选\n",
    "values = [10,20,4,50.31]\n",
    "squres = [x**2 for x in values if x<=12]\n",
    "squres"
   ]
  },
  {
   "cell_type": "code",
   "execution_count": 21,
   "metadata": {},
   "outputs": [
    {
     "name": "stdout",
     "output_type": "stream",
     "text": [
      "{16, 100}\n"
     ]
    },
    {
     "data": {
      "text/plain": [
       "{4: 16, 10: 100, 20: 400, 50.31: 2531.0961}"
      ]
     },
     "execution_count": 21,
     "metadata": {},
     "output_type": "execute_result"
    }
   ],
   "source": [
    "#推导式生成集合和字典\n",
    "values = [10,20,4,50.31]\n",
    "squres_set = {x**2 for x in values if x<=12}\n",
    "squres_dict = {x:x**2 for x in values}\n",
    "print(squres_set)\n",
    "squres_dict"
   ]
  },
  {
   "cell_type": "code",
   "execution_count": 22,
   "metadata": {},
   "outputs": [
    {
     "data": {
      "text/plain": [
       "3047.0961"
      ]
     },
     "execution_count": 22,
     "metadata": {},
     "output_type": "execute_result"
    }
   ],
   "source": [
    "#求和表达式\n",
    "values = [10,20,4,50.31]\n",
    "sum(x**2 for x in values)"
   ]
  },
  {
   "cell_type": "markdown",
   "metadata": {},
   "source": [
    "## (4).判断"
   ]
  },
  {
   "cell_type": "code",
   "execution_count": 23,
   "metadata": {},
   "outputs": [
    {
     "ename": "NameError",
     "evalue": "name 'B' is not defined",
     "output_type": "error",
     "traceback": [
      "\u001b[1;31m---------------------------------------------------------------------------\u001b[0m",
      "\u001b[1;31mNameError\u001b[0m                                 Traceback (most recent call last)",
      "\u001b[1;32m<ipython-input-23-1fbabf79350e>\u001b[0m in \u001b[0;36m<module>\u001b[1;34m()\u001b[0m\n\u001b[1;32m----> 1\u001b[1;33m \u001b[0mA\u001b[0m \u001b[1;32mif\u001b[0m \u001b[0mB\u001b[0m \u001b[1;32melse\u001b[0m \u001b[0mC\u001b[0m \u001b[1;31m#B==True-->>A  B==False-->>C\u001b[0m\u001b[1;33m\u001b[0m\u001b[0m\n\u001b[0m",
      "\u001b[1;31mNameError\u001b[0m: name 'B' is not defined"
     ]
    }
   ],
   "source": [
    "A if B else C #B==True-->>A  B==False-->>C"
   ]
  },
  {
   "cell_type": "markdown",
   "metadata": {},
   "source": [
    "## (5).字典"
   ]
  },
  {
   "cell_type": "code",
   "execution_count": null,
   "metadata": {},
   "outputs": [],
   "source": [
    "dict.items() #得到[(key,value),(key,value)...]\n",
    "dict.keys()  #得到key\n",
    "dict.values()#得到values\n",
    "del dict[key]#删除某个键-值对\n",
    "dict[key]=value#更改某个键值对"
   ]
  },
  {
   "cell_type": "markdown",
   "metadata": {},
   "source": [
    "(6).循环"
   ]
  },
  {
   "cell_type": "code",
   "execution_count": 24,
   "metadata": {},
   "outputs": [
    {
     "ename": "SyntaxError",
     "evalue": "'break' outside loop (<ipython-input-24-c21d2008e0da>, line 1)",
     "output_type": "error",
     "traceback": [
      "\u001b[1;36m  File \u001b[1;32m\"<ipython-input-24-c21d2008e0da>\"\u001b[1;36m, line \u001b[1;32m1\u001b[0m\n\u001b[1;33m    break   #跳出大循环\u001b[0m\n\u001b[1;37m                  ^\u001b[0m\n\u001b[1;31mSyntaxError\u001b[0m\u001b[1;31m:\u001b[0m 'break' outside loop\n"
     ]
    }
   ],
   "source": [
    "break   #跳出大循环\n",
    "continue#跳出小循环"
   ]
  },
  {
   "cell_type": "markdown",
   "metadata": {},
   "source": [
    "## (7)函数"
   ]
  },
  {
   "cell_type": "code",
   "execution_count": 25,
   "metadata": {},
   "outputs": [
    {
     "name": "stdout",
     "output_type": "stream",
     "text": [
      "hello\n"
     ]
    },
    {
     "ename": "ModuleNotFoundError",
     "evalue": "No module named 'fuction'",
     "output_type": "error",
     "traceback": [
      "\u001b[1;31m---------------------------------------------------------------------------\u001b[0m",
      "\u001b[1;31mModuleNotFoundError\u001b[0m                       Traceback (most recent call last)",
      "\u001b[1;32m<ipython-input-25-7bd1ef0bf542>\u001b[0m in \u001b[0;36m<module>\u001b[1;34m()\u001b[0m\n\u001b[0;32m      6\u001b[0m \u001b[1;33m\u001b[0m\u001b[0m\n\u001b[0;32m      7\u001b[0m \u001b[1;31m#外部函数调用\u001b[0m\u001b[1;33m\u001b[0m\u001b[1;33m\u001b[0m\u001b[0m\n\u001b[1;32m----> 8\u001b[1;33m \u001b[1;32mimport\u001b[0m \u001b[0mfuction\u001b[0m\u001b[1;33m\u001b[0m\u001b[0m\n\u001b[0m\u001b[0;32m      9\u001b[0m \u001b[0mfuction1\u001b[0m \u001b[1;33m=\u001b[0m \u001b[0mfuction\u001b[0m\u001b[1;33m.\u001b[0m\u001b[0mfuction\u001b[0m\u001b[1;33m(\u001b[0m\u001b[1;34m'hello'\u001b[0m\u001b[1;33m)\u001b[0m\u001b[1;33m\u001b[0m\u001b[0m\n\u001b[0;32m     10\u001b[0m \u001b[0mprint\u001b[0m\u001b[1;33m(\u001b[0m\u001b[0mfuction1\u001b[0m\u001b[1;33m)\u001b[0m\u001b[1;33m\u001b[0m\u001b[0m\n",
      "\u001b[1;31mModuleNotFoundError\u001b[0m: No module named 'fuction'"
     ]
    }
   ],
   "source": [
    "#内部函数\n",
    "def fuction(num):\n",
    "    return (num)\n",
    "fuction1 = fuction('hello')\n",
    "print(fuction1)    \n",
    "\n",
    "#外部函数调用\n",
    "import fuction\n",
    "fuction1 = fuction.fuction('hello')\n",
    "print(fuction1)\n",
    "\n",
    "#调用外部特定函数\n",
    "from fuction import fuction\n",
    "fuction1 = fuction('hello')\n",
    "print(fuction1)\n",
    "\n",
    "#调用函数之后指定别名\n",
    "import fuction as fuc\n",
    "fuction1 = fuc.fuction('hello')\n",
    "print(fuction1)\n",
    "\n",
    "from fuction import fuction as fuc\n",
    "fuction1 = fuc('hello')\n",
    "print(fuction1)"
   ]
  },
  {
   "cell_type": "markdown",
   "metadata": {},
   "source": [
    "## (8).类"
   ]
  },
  {
   "cell_type": "code",
   "execution_count": 26,
   "metadata": {},
   "outputs": [
    {
     "ename": "IndentationError",
     "evalue": "expected an indented block (<ipython-input-26-f9334403e133>, line 5)",
     "output_type": "error",
     "traceback": [
      "\u001b[1;36m  File \u001b[1;32m\"<ipython-input-26-f9334403e133>\"\u001b[1;36m, line \u001b[1;32m5\u001b[0m\n\u001b[1;33m    def __init__(self,num1,num2):\u001b[0m\n\u001b[1;37m      ^\u001b[0m\n\u001b[1;31mIndentationError\u001b[0m\u001b[1;31m:\u001b[0m expected an indented block\n"
     ]
    }
   ],
   "source": [
    "#内部创建类\n",
    "#self相当于C++的this指针\n",
    "class Dog():\n",
    "#num1和num2是输入的形参\n",
    "def __init__(self,num1,num2):\n",
    "#num3和num4是函数内部使用的参数\n",
    "self.num3 = num1\n",
    "self.num4 = num2\n",
    "defprintf(self):\n",
    "print(self.num3)\n",
    "def sum1(self):\n",
    "print(self.num3+self.num4)\n",
    "my_dog = Dog(32,'jake')\n",
    "\n",
    "#外部创建类\n",
    "import dog \n",
    "my_dog = dog.Dog(23,'rake')\n",
    "\n",
    "from dog import Dog\n",
    "my_dog = Dog(23,'rake')"
   ]
  },
  {
   "cell_type": "code",
   "execution_count": 27,
   "metadata": {},
   "outputs": [
    {
     "name": "stdout",
     "output_type": "stream",
     "text": [
      "23\n"
     ]
    }
   ],
   "source": [
    "#类的继承\n",
    "class Dog():\n",
    "    def __init__(self,num1,num2):\n",
    "        self.num3 = num1\n",
    "        self.num4 = num2\n",
    "    def    printf(self):\n",
    "        return self.num3\n",
    "    def sum1(self):\n",
    "        print(self.num3+self.num4)\n",
    "class Cdog(Dog):\n",
    "    def __init__(self,num1,num2):\n",
    "            super().__init__(num1,num2)\n",
    "            self.num3 = super().printf()\n",
    "my_dog = Cdog(23,'rake')\n",
    "print(my_dog.num3)"
   ]
  },
  {
   "cell_type": "markdown",
   "metadata": {},
   "source": [
    "## (9).文件操作"
   ]
  },
  {
   "cell_type": "code",
   "execution_count": null,
   "metadata": {},
   "outputs": [],
   "source": [
    "#读取文件\n",
    "'''with的作用是不再访问程序的时候关闭程序'''\n",
    "'''close()的作用是直接关闭程序，用 with 比较好'''\n",
    "with open('test.txt') as file_object:\n",
    "    contents = file_object.read()\n",
    "    print(contents)\n",
    "#读取文件内容成一行\n",
    "with open('test.txt') as file_object:\n",
    "    contents = file_object.readlines()#行读取\n",
    "print(contents[:42] + '...')"
   ]
  },
  {
   "cell_type": "code",
   "execution_count": null,
   "metadata": {},
   "outputs": [],
   "source": [
    "#写入文件\n",
    "#'w':格式化以后输入\n",
    "#'a':在原来基础上输入\n",
    "with open('test.txt','w') as file_object:\n",
    "    file_object = 'hello world'\n",
    "'''先输入int、float类型的时候得转化成str'''"
   ]
  },
  {
   "cell_type": "code",
   "execution_count": 29,
   "metadata": {
    "scrolled": true
   },
   "outputs": [
    {
     "ename": "NameError",
     "evalue": "name 'y' is not defined",
     "output_type": "error",
     "traceback": [
      "\u001b[1;31m---------------------------------------------------------------------------\u001b[0m",
      "\u001b[1;31mNameError\u001b[0m                                 Traceback (most recent call last)",
      "\u001b[1;32m<ipython-input-29-2511e807524e>\u001b[0m in \u001b[0;36m<module>\u001b[1;34m()\u001b[0m\n\u001b[0;32m     10\u001b[0m \u001b[1;31m#x,y为自变量，x+y为具体运算\u001b[0m\u001b[1;33m\u001b[0m\u001b[1;33m\u001b[0m\u001b[0m\n\u001b[0;32m     11\u001b[0m \u001b[0mfun\u001b[0m \u001b[1;33m=\u001b[0m \u001b[1;32mlambda\u001b[0m \u001b[0mx\u001b[0m\u001b[1;33m,\u001b[0m\u001b[0my\u001b[0m\u001b[1;33m:\u001b[0m\u001b[0mx\u001b[0m\u001b[1;33m+\u001b[0m\u001b[0my\u001b[0m\u001b[1;33m\u001b[0m\u001b[0m\n\u001b[1;32m---> 12\u001b[1;33m \u001b[0mnum\u001b[0m \u001b[1;33m=\u001b[0m \u001b[0mfun\u001b[0m\u001b[1;33m(\u001b[0m\u001b[0mx\u001b[0m\u001b[1;33m,\u001b[0m\u001b[0my\u001b[0m\u001b[1;33m)\u001b[0m\u001b[1;33m\u001b[0m\u001b[0m\n\u001b[0m\u001b[0;32m     13\u001b[0m \u001b[1;33m\u001b[0m\u001b[0m\n\u001b[0;32m     14\u001b[0m \u001b[1;31m#map是把函数和参数绑定在一起\u001b[0m\u001b[1;33m\u001b[0m\u001b[1;33m\u001b[0m\u001b[0m\n",
      "\u001b[1;31mNameError\u001b[0m: name 'y' is not defined"
     ]
    }
   ],
   "source": [
    "#简单扩展\n",
    "\n",
    "#zip(a,b)返回一个tuple\n",
    "a = [1,2,3]\n",
    "b = [4,5,6]\n",
    "ab = zip(a,b)\n",
    "ab = [(1, 4), (2, 5), (3, 6)]\n",
    "\n",
    "#lambda\n",
    "#x,y为自变量，x+y为具体运算\n",
    "fun = lambda x,y:x+y\n",
    "num = fun(x,y)\n",
    "\n",
    "#map是把函数和参数绑定在一起\n",
    "map(函数(迭代器),参数)#把函数和参数卸载一起了\n",
    "def fun(x,y):\n",
    "    return (x+y)\n",
    "list(map(fun,[1],[2]))\n",
    "\"\"\"\n",
    "[3]\n",
    "\"\"\"\n",
    "list(map(fun,[1,2],[3,4]))\n",
    "\"\"\"\n",
    "[4,6]\n",
    "\"\"\"  "
   ]
  },
  {
   "cell_type": "markdown",
   "metadata": {},
   "source": [
    "# OS模块\n",
    "os模块主要是对系统~文件~目录等进行操作\n",
    "在学习TF的时候用到了os的相关操作如下:"
   ]
  },
  {
   "cell_type": "code",
   "execution_count": null,
   "metadata": {},
   "outputs": [],
   "source": [
    "os.listdir(path)----#返回指定目录下的所有文件和目录名。在读取文件的时候经常用到！\n",
    "os.getcwd()-------#函数得到当前工作目录，即当前Python脚本工作的目录路径。读写文件常用！\n",
    "os.path.join(path,name)---#连接目录与文件名或目录;使用“\\”连接，保存文件路径常用\n",
    "注意一下：#name前面如果没有‘\\’，系统会自动添加！如：print(os.path.join(\"C:\\wjy\",name.txt))----->>>>C\\:wjy\\name.txt\n",
    "举两个例子:"
   ]
  },
  {
   "cell_type": "code",
   "execution_count": null,
   "metadata": {},
   "outputs": [],
   "source": [
    "# 举两个例子:\n",
    "#把某个文件夹的内部文件(二层目录)路径全部写到一个txt文档之中\n",
    "import os \n",
    "import re\n",
    "\n",
    "def createFileList(path,txt_path):\n",
    "    fw = open(txt_path,'w+')\n",
    "    image_files = os.listdir(path)\n",
    "    for i in range(len(image_files)):\n",
    "        dog_categories = os.listdir(path+'/'+image_files[i])\n",
    "        for each_image in dog_categories:\n",
    "            fw.write(path+'/'+image_files[i]+'/'+ each_image + ' %d\\n'%i)\n",
    "    print('生成txt文件成功\\n')\n",
    "    fw.close()\n",
    "\n",
    "path = 'dog_10_images'\n",
    "txt_path = 'train.txt'\n",
    "createFileList(path,txt_path)"
   ]
  },
  {
   "cell_type": "code",
   "execution_count": null,
   "metadata": {},
   "outputs": [],
   "source": [
    "# TF模型保存的路径和文件名。\n",
    "MODEL_SAVE_PATH = \"saves_model_path\"\n",
    "MODEL_NAME = \"model.ckpt\"\n",
    "saver.save(sess, os.path.join(MODEL_SAVE_PATH, MODEL_NAME),global_step=global_step)"
   ]
  },
  {
   "cell_type": "markdown",
   "metadata": {},
   "source": [
    "os常用命令如下,就不一一列举了:"
   ]
  },
  {
   "cell_type": "code",
   "execution_count": null,
   "metadata": {},
   "outputs": [],
   "source": [
    "os.sep#可以取代操作系统特定的路径分隔符。windows下为 “\\\\”\n",
    "os.name#字符串指示你正在使用的平台。比如对于Windows，它是'nt'，而对于Linux/Unix用户，它是'posix'。\n",
    "os.getcwd()#函数得到当前工作目录，即当前Python脚本工作的目录路径。\n",
    "os.getenv()#获取一个环境变量，如果没有返回none\n",
    "os.putenv(key, value)#设置一个环境变量值\n",
    "os.listdir(path)#返回指定目录下的所有文件和目录名。\n",
    "os.remove(path)#函数用来删除一个文件。\n",
    "os.system(command)#函数用来运行shell命令。\n",
    "os.linesep#字符串给出当前平台使用的行终止符。例如，Windows使用'\\r\\n'，Linux使用'\\n'而Mac使用'\\r'。\n",
    "os.curdir:#返回当前目录（'.')\n",
    "os.chdir(dirname):#改变工作目录到dirname\n",
    "========================================================================================\n",
    "os.path#常用方法：\n",
    "os.path.isfile()和os.path.isdir()#函数分别检验给出的路径是一个文件还是目录。\n",
    "os.path.exists()#函数用来检验给出的路径是否真地存在\n",
    "os.path.getsize(name):#获得文件大小，如果name是目录返回0L\n",
    "os.path.abspath(name):#获得绝对路径\n",
    "os.path.normpath(path):#规范path字符串形式\n",
    "os.path.split(path) ：#将path分割成目录和文件名二元组返回。\n",
    "os.path.splitext():#分离文件名与扩展名\n",
    "os.path.join(path,name):#连接目录与文件名或目录;使用“\\”连接\n",
    "os.path.basename(path):#返回文件名\n",
    "os.path.dirname(path):#返回文件路径"
   ]
  },
  {
   "cell_type": "markdown",
   "metadata": {},
   "source": [
    "# 3. argparse模块\n",
    "用于命令行参数操作,常使用在远程演示操作!\n",
    "\n",
    "以下是一个简单的操作:\n",
    "\n",
    "创建ArgumentParser()对象\n",
    "\n",
    "调用add_argument()方法添加参数\n",
    "\n",
    "使用parse_args()解析添加的参数"
   ]
  },
  {
   "cell_type": "markdown",
   "metadata": {},
   "source": [
    "## 1.定位参数:"
   ]
  },
  {
   "cell_type": "code",
   "execution_count": null,
   "metadata": {},
   "outputs": [],
   "source": [
    "## 1.定位参数:\n",
    "#定位参数，必须指定\n",
    "parser = argparse.ArgumentParser()\n",
    "parser.add_argument(\"integer\",type=int,help=\"display an integer\",name=\"--h\")\n",
    "args = parser.parse_args()\n",
    "print(args.integer)"
   ]
  },
  {
   "cell_type": "markdown",
   "metadata": {},
   "source": [
    "## 2.选择参数:"
   ]
  },
  {
   "cell_type": "code",
   "execution_count": 30,
   "metadata": {
    "scrolled": true
   },
   "outputs": [
    {
     "ename": "IndentationError",
     "evalue": "unexpected indent (<ipython-input-30-0b2fc3c9b174>, line 2)",
     "output_type": "error",
     "traceback": [
      "\u001b[1;36m  File \u001b[1;32m\"<ipython-input-30-0b2fc3c9b174>\"\u001b[1;36m, line \u001b[1;32m2\u001b[0m\n\u001b[1;33m    parser = argparse.ArgumentParser()\u001b[0m\n\u001b[1;37m    ^\u001b[0m\n\u001b[1;31mIndentationError\u001b[0m\u001b[1;31m:\u001b[0m unexpected indent\n"
     ]
    }
   ],
   "source": [
    "#选择参数，带有\"--\"形式的，是可选的参数\n",
    "    parser = argparse.ArgumentParser()\n",
    "    parser.add_argument(\"--square\",type = int ,help = \"display a square of a given number\")\n",
    "    parser.add_argument(\"--cubic\",type = int,help = \"display a cubic of a given number\")\n",
    "    args = parser.parse_args()\n",
    "    if args.square:\n",
    "        print(args.square**2)\n",
    "    if args.cubic:\n",
    "        print(args.cubic**3)"
   ]
  },
  {
   "cell_type": "markdown",
   "metadata": {},
   "source": [
    "## 3.混合使用:"
   ]
  },
  {
   "cell_type": "code",
   "execution_count": null,
   "metadata": {},
   "outputs": [],
   "source": [
    "parser = argparse.ArgumentParser(description = \"Process some integer\")\n",
    "parser.add_argument(\"integers\",metavar=\"N\",type=int,nargs=\"+\",help=\"an integer for the accumulator\")\n",
    "parser.add_argument(\"--sum\",dest=\"accumulate\",action=\"store_const\",const=sum,default=max,help=\"sum the integers(default: find the max)\")\n",
    "args = parser.parse_args()\n",
    "print(args.accumulate(args.integers))"
   ]
  },
  {
   "cell_type": "code",
   "execution_count": null,
   "metadata": {},
   "outputs": [],
   "source": [
    "# 以最后一个例子说明:\n",
    "\n",
    "description:描述我们这程序是干什么的，Str输入\n",
    "\n",
    "　　metavar：是在命令行解释器的时候用来说明参数的\n",
    "\n",
    "　　nargs：说明有多个定位参数，也就是输入 1 3 5 7 9 可以把这五个数都识别\n"
   ]
  },
  {
   "cell_type": "code",
   "execution_count": null,
   "metadata": {},
   "outputs": [],
   "source": [
    "具体参数指定如下：\n",
    "\n",
    "    name or flags - #选项字符串的名字或者列表，例如 foo 或者 -f, --foo。\n",
    "    action - #命令行遇到参数时的动作，默认值是 store。nargs - 应该读取的命令行参数个数，可以是具体的数字，或者是?号，当不指定值时对于 Positional argument 使用 default，对于 Optional argument 使用 const；或者是 * 号，表示 0 或多个参数；或者是 + 号表示 1 或多个参数。\n",
    "    store_const，#表示赋值为const；\n",
    "    append，#将遇到的值存储成列表，也就是如果参数重复则会保存多个值;\n",
    "    append_const，#将参数规范中定义的一个值保存到一个列表；\n",
    "    count，#存储遇到的次数；此外，也可以继承 argparse.Action 自定义参数解析；\n",
    "    nargs - #应该读取的命令行参数个数，可以是具体的数字，或者是?号，当不指定值时对于 Positional argument 使用 default，对于 Optional argument 使用 const；或者是 * 号，表示 0 或多个参数；或者是 + 号表示 1 或多个参数。\n",
    "    const - action 和 nargs 所需要的常量值。\n",
    "    default - #不指定参数时的默认值。\n",
    "    type - #命令行参数应该被转换成的类型。\n",
    "    choices - #参数可允许的值的一个容器。\n",
    "    required - #可选参数是否可以省略 (仅针对可选参数)。\n",
    "    help - #参数的帮助信息，当指定为 argparse.SUPPRESS 时表示不显示该参数的帮助信息.\n",
    "    metavar - #在 usage 说明中的参数名称，对于必选参数默认就是参数名称，对于可选参数默认是全大写的参数名称.\n",
    "    dest - #解析后的参数名称，默认情况下，对于可选参数选取最长的名称，中划线转换为下划线."
   ]
  },
  {
   "cell_type": "markdown",
   "metadata": {},
   "source": [
    "# 4. Re模块\n",
    "re模块主要是操作正则表达式内容,它能帮助我们方便的检查一个字符串是否与某种模式匹配\n",
    "\n",
    "不用可以去学习,大概了解就行了,到时候用的时候再去查询"
   ]
  },
  {
   "cell_type": "markdown",
   "metadata": {},
   "source": [
    "[](https://mmbiz.qpic.cn/mmbiz_png/9Xne6pfLaezXVm1vIn1icOEwmBg3n0gCiccgFcKzicPO7BoBicgicZGFnnrrumYRSc0hdrgOLhArymYvmuuCtN81hQA/640?wx_fmt=png&tp=webp&wxfrom=5&wx_lazy=1)"
   ]
  }
 ],
 "metadata": {
  "kernelspec": {
   "display_name": "Python 3",
   "language": "python",
   "name": "python3"
  },
  "language_info": {
   "codemirror_mode": {
    "name": "ipython",
    "version": 3
   },
   "file_extension": ".py",
   "mimetype": "text/x-python",
   "name": "python",
   "nbconvert_exporter": "python",
   "pygments_lexer": "ipython3",
   "version": "3.6.6"
  },
  "toc": {
   "base_numbering": 1,
   "nav_menu": {},
   "number_sections": true,
   "sideBar": true,
   "skip_h1_title": false,
   "title_cell": "Table of Contents",
   "title_sidebar": "Contents",
   "toc_cell": false,
   "toc_position": {
    "height": "calc(100% - 180px)",
    "left": "10px",
    "top": "150px",
    "width": "426.667px"
   },
   "toc_section_display": true,
   "toc_window_display": true
  }
 },
 "nbformat": 4,
 "nbformat_minor": 2
}
